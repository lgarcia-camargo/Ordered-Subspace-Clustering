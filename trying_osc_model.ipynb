{
    "cells": [
        {
            "cell_type": "code",
            "execution_count": 1,
            "source": [
                "import osc\n",
                "import numpy as np\n",
                "\n",
                "from scipy.sparse import csgraph\n",
                "from scipy.sparse.linalg import eigsh"
            ],
            "outputs": [],
            "metadata": {}
        },
        {
            "cell_type": "code",
            "execution_count": 2,
            "source": [
                "def get_num_clusters(A):\n",
                "    L = csgraph.laplacian(A, normed=True)\n",
                "    n_components = A.shape[0]\n",
                "\n",
                "    eigenvalues, eigenvectors = eigsh(L, k=n_components, which = 'LM', sigma = 1.0, maxiter=5000)\n",
                "\n",
                "\n",
                "    index_lagest_gap = np.argmax(np.diff(eigenvalues))\n",
                "    nb_clusters = index_lagest_gap+1\n",
                "\n",
                "    return nb_clusters\n",
                "    "
            ],
            "outputs": [],
            "metadata": {}
        },
        {
            "cell_type": "code",
            "execution_count": 3,
            "source": [
                "# a column wise dataset of samples\n",
                "X = np.reshape(np.array(range(1,26)), (5,5))"
            ],
            "outputs": [],
            "metadata": {}
        },
        {
            "cell_type": "code",
            "execution_count": 4,
            "source": [
                "X = np.array([[ .1,  2,  .2,  4,  5],\n",
                "       [ .15,  7,  .19,  9, 10],\n",
                "       [.09, 12, .21, 14, 15],\n",
                "       [16, 17, 18, 19, 20],\n",
                "       [21, 22, 23, 24, 25]])"
            ],
            "outputs": [],
            "metadata": {}
        },
        {
            "cell_type": "code",
            "execution_count": 5,
            "source": [
                "X"
            ],
            "outputs": [
                {
                    "output_type": "execute_result",
                    "data": {
                        "text/plain": [
                            "array([[ 0.1 ,  2.  ,  0.2 ,  4.  ,  5.  ],\n",
                            "       [ 0.15,  7.  ,  0.19,  9.  , 10.  ],\n",
                            "       [ 0.09, 12.  ,  0.21, 14.  , 15.  ],\n",
                            "       [16.  , 17.  , 18.  , 19.  , 20.  ],\n",
                            "       [21.  , 22.  , 23.  , 24.  , 25.  ]])"
                        ]
                    },
                    "metadata": {},
                    "execution_count": 5
                }
            ],
            "metadata": {}
        },
        {
            "cell_type": "code",
            "execution_count": 6,
            "source": [
                "lambda_1 = 0.099\n",
                "lambda_2 = 0.001\n",
                "\n",
                "\n",
                "\n",
                "diagconstraint = False\n",
                "max_iterations = 200\n",
                "mu = .1"
            ],
            "outputs": [],
            "metadata": {}
        },
        {
            "cell_type": "code",
            "execution_count": 7,
            "source": [
                "osc_model = osc.osc(max_iterations, lambda_1, lambda_2, mu, diagconstraint)"
            ],
            "outputs": [],
            "metadata": {}
        },
        {
            "cell_type": "code",
            "execution_count": 8,
            "source": [
                "A = osc_model.osc_exact(X)"
            ],
            "outputs": [],
            "metadata": {}
        },
        {
            "cell_type": "code",
            "execution_count": 12,
            "source": [
                "xn = A.shape[0]"
            ],
            "outputs": [],
            "metadata": {}
        },
        {
            "cell_type": "code",
            "execution_count": 14,
            "source": [
                "R = np.triu(np.ones((xn, xn-1)),1) - np.triu(np.ones((xn, xn-1))) + np.triu(np.ones((xn, xn-1)),-1) - np.triu(np.ones((xn, xn-1)))\n",
                "R"
            ],
            "outputs": [
                {
                    "output_type": "execute_result",
                    "data": {
                        "text/plain": [
                            "array([[-1.,  0.,  0.,  0.],\n",
                            "       [ 1., -1.,  0.,  0.],\n",
                            "       [ 0.,  1., -1.,  0.],\n",
                            "       [ 0.,  0.,  1., -1.],\n",
                            "       [ 0.,  0.,  0.,  1.]])"
                        ]
                    },
                    "metadata": {},
                    "execution_count": 14
                }
            ],
            "metadata": {}
        },
        {
            "cell_type": "code",
            "execution_count": 17,
            "source": [
                "np.matmul(A,R)"
            ],
            "outputs": [
                {
                    "output_type": "execute_result",
                    "data": {
                        "text/plain": [
                            "array([[-0.44215863,  0.43877377, -0.44998219,  0.        ],\n",
                            "       [ 0.34378408, -0.34378408,  0.24369802, -0.00258028],\n",
                            "       [-0.43424344,  0.43708308, -0.44991916,  0.        ],\n",
                            "       [ 0.28234553, -0.28234553,  0.31591377,  0.00050588],\n",
                            "       [ 0.25213665, -0.25213665,  0.34146844,  0.00178714]])"
                        ]
                    },
                    "metadata": {},
                    "execution_count": 17
                }
            ],
            "metadata": {}
        },
        {
            "cell_type": "code",
            "execution_count": 23,
            "source": [
                "from scipy.spatial.distance import pdist"
            ],
            "outputs": [],
            "metadata": {}
        },
        {
            "cell_type": "code",
            "execution_count": 27,
            "source": [
                "pdist(A)"
            ],
            "outputs": [
                {
                    "output_type": "execute_result",
                    "data": {
                        "text/plain": [
                            "array([0.79759558, 0.00649509, 0.82550826, 0.83695708, 0.79332239,\n",
                            "       0.12107925, 0.16849464, 0.82150204, 0.83306495, 0.0478099 ])"
                        ]
                    },
                    "metadata": {},
                    "execution_count": 27
                }
            ],
            "metadata": {}
        },
        {
            "cell_type": "code",
            "execution_count": null,
            "source": [],
            "outputs": [],
            "metadata": {}
        }
    ],
    "metadata": {
        "orig_nbformat": 4,
        "language_info": {
            "name": "python",
            "version": "3.8.5",
            "mimetype": "text/x-python",
            "codemirror_mode": {
                "name": "ipython",
                "version": 3
            },
            "pygments_lexer": "ipython3",
            "nbconvert_exporter": "python",
            "file_extension": ".py"
        },
        "kernelspec": {
            "name": "python3",
            "display_name": "Python 3.8.5 64-bit ('base': conda)"
        },
        "interpreter": {
            "hash": "9f9aabb212dba141b1bf7b9fdb963dc1d6e98e2ab1147e7e751076f962adb158"
        }
    },
    "nbformat": 4,
    "nbformat_minor": 2
}